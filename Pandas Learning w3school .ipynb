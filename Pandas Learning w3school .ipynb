{
 "cells": [
  {
   "cell_type": "code",
   "execution_count": 2,
   "metadata": {},
   "outputs": [],
   "source": [
    "import pandas as pd"
   ]
  },
  {
   "cell_type": "code",
   "execution_count": 3,
   "metadata": {},
   "outputs": [
    {
     "name": "stdout",
     "output_type": "stream",
     "text": [
      "1.5.3\n"
     ]
    }
   ],
   "source": [
    "print(pd.__version__)\n"
   ]
  },
  {
   "cell_type": "code",
   "execution_count": 5,
   "metadata": {},
   "outputs": [
    {
     "name": "stdout",
     "output_type": "stream",
     "text": [
      "           cars  Constructors\n",
      "0      Mercedes             7\n",
      "1       Ferrari            16\n",
      "2       Redbull             6\n",
      "3  Aston_Martin             0\n"
     ]
    }
   ],
   "source": [
    "#Dataframes\n",
    "formula1 = {\n",
    "    'cars':['Mercedes','Ferrari', 'Redbull','Aston_Martin'],\n",
    "    'Constructors Championship':[7,16,6,0]\n",
    "}\n",
    "myconstructors = pd.DataFrame(formula1)\n",
    "print(myconstructors)"
   ]
  },
  {
   "cell_type": "code",
   "execution_count": 9,
   "metadata": {},
   "outputs": [
    {
     "name": "stdout",
     "output_type": "stream",
     "text": [
      "0     1\n",
      "1     2\n",
      "2     3\n",
      "3     4\n",
      "4     5\n",
      "5     6\n",
      "6     7\n",
      "7     8\n",
      "8     9\n",
      "9    10\n",
      "dtype: int64\n"
     ]
    }
   ],
   "source": [
    "#Creating a series from a simple list\n",
    "gridposition = [1,2,3,4,5,6,7,8,9,10]\n",
    "\n",
    "f1grid = pd.Series(gridposition)\n",
    "print(f1grid)\n"
   ]
  },
  {
   "cell_type": "code",
   "execution_count": 13,
   "metadata": {},
   "outputs": [
    {
     "name": "stdout",
     "output_type": "stream",
     "text": [
      "0    1\n",
      "1    2\n",
      "2    3\n",
      "3    4\n",
      "4    5\n",
      "dtype: int64\n"
     ]
    }
   ],
   "source": [
    "#Labels -- used to access a specified value.\n",
    "print(f1grid[0:5])\n"
   ]
  },
  {
   "cell_type": "code",
   "execution_count": 14,
   "metadata": {},
   "outputs": [
    {
     "name": "stdout",
     "output_type": "stream",
     "text": [
      "Max         1\n",
      "Alonso      2\n",
      "Esteban     3\n",
      "Hamilton    4\n",
      "Russel      5\n",
      "Gasley      6\n",
      "Norris      7\n",
      "Piastri     8\n",
      "Stroll      9\n",
      "dtype: int64\n"
     ]
    }
   ],
   "source": [
    "#Index to name your labels\n",
    "monaco_results = [1,2,3,4,5,6,7,8,9]\n",
    "monacof1 = pd.Series(monaco_results,index=[\"Max\",\"Alonso\",\"Esteban\",\"Hamilton\",\"Russel\",\"Gasley\",\"Norris\",\"Piastri\",\"Stroll\"])\n",
    "print(monacof1)"
   ]
  },
  {
   "cell_type": "code",
   "execution_count": 16,
   "metadata": {},
   "outputs": [
    {
     "name": "stdout",
     "output_type": "stream",
     "text": [
      "Max Verstappen     25\n",
      "Sergio Perez       18\n",
      "Fernando Alonso    15\n",
      "Lance Stroll       12\n",
      "dtype: int64\n"
     ]
    }
   ],
   "source": [
    "##Creating series using key:value arguemnts dictionary format -- Keys become labels(for referencing)\n",
    "Driver_points = {\"Max Verstappen\":25, \"Sergio Perez\":18, \"Fernando Alonso\":15,\"Lance Stroll\":12}\n",
    "results = pd.Series(Driver_points)\n",
    "print(results)\n",
    "\n"
   ]
  },
  {
   "cell_type": "code",
   "execution_count": 17,
   "metadata": {},
   "outputs": [
    {
     "name": "stdout",
     "output_type": "stream",
     "text": [
      "           Drivers   Racing Team  Points     Performance Train\n",
      "0   Max Verstappen       Redbull      25  Redbull Power Trains\n",
      "1     Sergio Perez       Redbull      18  Redbull Power Trains\n",
      "2  Fernando Alonso  Aston Martin      15       Mercedes Engine\n",
      "3     Lance Stroll  Aston Martin      12       Mercedes Engine\n"
     ]
    }
   ],
   "source": [
    "#DataFrames \n",
    "Imola_results = {\n",
    "    \"Drivers\":[\"Max Verstappen\", \"Sergio Perez\", \"Fernando Alonso\",\"Lance Stroll\"],\n",
    "    \"Racing Team\":[\"Redbull\",\"Redbull\",\"Aston Martin\",\"Aston Martin\"],\n",
    "    \"Points\": [25,18,15,12],\n",
    "    \"Performance Train\": [\"Redbull Power Trains\",\"Redbull Power Trains\",\"Mercedes Engine\",\"Mercedes Engine\" ]\n",
    "}\n",
    "\n",
    "results =pd.DataFrame(Imola_results)\n",
    "print(results)"
   ]
  },
  {
   "cell_type": "code",
   "execution_count": 18,
   "metadata": {},
   "outputs": [
    {
     "name": "stdout",
     "output_type": "stream",
     "text": [
      "  Player Name  Expected Goals(XG)  Chances Missed  Goals per 90\n",
      "0     Halaand                  20              23           0.8\n",
      "1    Rashford                  52              45           0.2\n",
      "2       Salah                  32              67           0.9\n",
      "3      Sancho                  31              89           0.9\n"
     ]
    }
   ],
   "source": [
    "#Example 2\n",
    "Striker_KPIs ={\n",
    "    \"Player Name\":[\"Halaand\",\"Rashford\",\"Salah\",\"Sancho\"],\n",
    "    \"Expected Goals(XG)\":[20,52,32,31],\n",
    "    \"Chances Missed\":[23,45,67,89],\n",
    "    \"Goals per 90\":[0.8,0.2,0.9,0.9]\n",
    "}\n",
    "\n",
    "football = pd.DataFrame(Striker_KPIs)\n",
    "print(football)"
   ]
  }
 ],
 "metadata": {
  "kernelspec": {
   "display_name": "machinelearning",
   "language": "python",
   "name": "python3"
  },
  "language_info": {
   "codemirror_mode": {
    "name": "ipython",
    "version": 3
   },
   "file_extension": ".py",
   "mimetype": "text/x-python",
   "name": "python",
   "nbconvert_exporter": "python",
   "pygments_lexer": "ipython3",
   "version": "3.9.16"
  },
  "orig_nbformat": 4
 },
 "nbformat": 4,
 "nbformat_minor": 2
}
