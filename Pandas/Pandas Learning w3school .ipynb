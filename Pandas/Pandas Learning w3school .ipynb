{
 "cells": [
  {
   "cell_type": "code",
   "execution_count": 2,
   "metadata": {},
   "outputs": [],
   "source": [
    "import pandas as pd"
   ]
  },
  {
   "cell_type": "code",
   "execution_count": 3,
   "metadata": {},
   "outputs": [
    {
     "name": "stdout",
     "output_type": "stream",
     "text": [
      "1.5.3\n"
     ]
    }
   ],
   "source": [
    "print(pd.__version__)\n"
   ]
  },
  {
   "cell_type": "code",
   "execution_count": 5,
   "metadata": {},
   "outputs": [
    {
     "name": "stdout",
     "output_type": "stream",
     "text": [
      "           cars  Constructors\n",
      "0      Mercedes             7\n",
      "1       Ferrari            16\n",
      "2       Redbull             6\n",
      "3  Aston_Martin             0\n"
     ]
    }
   ],
   "source": [
    "#Dataframes\n",
    "formula1 = {\n",
    "    'cars':['Mercedes','Ferrari', 'Redbull','Aston_Martin'],\n",
    "    'Constructors Championship':[7,16,6,0]\n",
    "}\n",
    "myconstructors = pd.DataFrame(formula1)\n",
    "print(myconstructors)"
   ]
  },
  {
   "cell_type": "code",
   "execution_count": 9,
   "metadata": {},
   "outputs": [
    {
     "name": "stdout",
     "output_type": "stream",
     "text": [
      "0     1\n",
      "1     2\n",
      "2     3\n",
      "3     4\n",
      "4     5\n",
      "5     6\n",
      "6     7\n",
      "7     8\n",
      "8     9\n",
      "9    10\n",
      "dtype: int64\n"
     ]
    }
   ],
   "source": [
    "#Creating a series from a simple list\n",
    "gridposition = [1,2,3,4,5,6,7,8,9,10]\n",
    "\n",
    "f1grid = pd.Series(gridposition)\n",
    "print(f1grid)\n"
   ]
  },
  {
   "cell_type": "code",
   "execution_count": 13,
   "metadata": {},
   "outputs": [
    {
     "name": "stdout",
     "output_type": "stream",
     "text": [
      "0    1\n",
      "1    2\n",
      "2    3\n",
      "3    4\n",
      "4    5\n",
      "dtype: int64\n"
     ]
    }
   ],
   "source": [
    "#Labels -- used to access a specified value.\n",
    "print(f1grid[0:5])\n"
   ]
  },
  {
   "cell_type": "code",
   "execution_count": 14,
   "metadata": {},
   "outputs": [
    {
     "name": "stdout",
     "output_type": "stream",
     "text": [
      "Max         1\n",
      "Alonso      2\n",
      "Esteban     3\n",
      "Hamilton    4\n",
      "Russel      5\n",
      "Gasley      6\n",
      "Norris      7\n",
      "Piastri     8\n",
      "Stroll      9\n",
      "dtype: int64\n"
     ]
    }
   ],
   "source": [
    "#Index to name your labels\n",
    "monaco_results = [1,2,3,4,5,6,7,8,9]\n",
    "monacof1 = pd.Series(monaco_results,index=[\"Max\",\"Alonso\",\"Esteban\",\"Hamilton\",\"Russel\",\"Gasley\",\"Norris\",\"Piastri\",\"Stroll\"])\n",
    "print(monacof1)"
   ]
  },
  {
   "cell_type": "code",
   "execution_count": 16,
   "metadata": {},
   "outputs": [
    {
     "name": "stdout",
     "output_type": "stream",
     "text": [
      "Max Verstappen     25\n",
      "Sergio Perez       18\n",
      "Fernando Alonso    15\n",
      "Lance Stroll       12\n",
      "dtype: int64\n"
     ]
    }
   ],
   "source": [
    "##Creating series using key:value arguemnts dictionary format -- Keys become labels(for referencing)\n",
    "Driver_points = {\"Max Verstappen\":25, \"Sergio Perez\":18, \"Fernando Alonso\":15,\"Lance Stroll\":12}\n",
    "results = pd.Series(Driver_points)\n",
    "print(results)\n",
    "\n"
   ]
  },
  {
   "cell_type": "code",
   "execution_count": 17,
   "metadata": {},
   "outputs": [
    {
     "name": "stdout",
     "output_type": "stream",
     "text": [
      "           Drivers   Racing Team  Points     Performance Train\n",
      "0   Max Verstappen       Redbull      25  Redbull Power Trains\n",
      "1     Sergio Perez       Redbull      18  Redbull Power Trains\n",
      "2  Fernando Alonso  Aston Martin      15       Mercedes Engine\n",
      "3     Lance Stroll  Aston Martin      12       Mercedes Engine\n"
     ]
    }
   ],
   "source": [
    "#DataFrames \n",
    "Imola_results = {\n",
    "    \"Drivers\":[\"Max Verstappen\", \"Sergio Perez\", \"Fernando Alonso\",\"Lance Stroll\"],\n",
    "    \"Racing Team\":[\"Redbull\",\"Redbull\",\"Aston Martin\",\"Aston Martin\"],\n",
    "    \"Points\": [25,18,15,12],\n",
    "    \"Performance Train\": [\"Redbull Power Trains\",\"Redbull Power Trains\",\"Mercedes Engine\",\"Mercedes Engine\" ]\n",
    "}\n",
    "\n",
    "results =pd.DataFrame(Imola_results)\n",
    "print(results)"
   ]
  },
  {
   "cell_type": "code",
   "execution_count": 18,
   "metadata": {},
   "outputs": [
    {
     "name": "stdout",
     "output_type": "stream",
     "text": [
      "  Player Name  Expected Goals(XG)  Chances Missed  Goals per 90\n",
      "0     Halaand                  20              23           0.8\n",
      "1    Rashford                  52              45           0.2\n",
      "2       Salah                  32              67           0.9\n",
      "3      Sancho                  31              89           0.9\n"
     ]
    }
   ],
   "source": [
    "#Example 2\n",
    "Striker_KPIs ={\n",
    "    \"Player Name\":[\"Halaand\",\"Rashford\",\"Salah\",\"Sancho\"],\n",
    "    \"Expected Goals(XG)\":[20,52,32,31],\n",
    "    \"Chances Missed\":[23,45,67,89],\n",
    "    \"Goals per 90\":[0.8,0.2,0.9,0.9]\n",
    "}\n",
    "\n",
    "football = pd.DataFrame(Striker_KPIs)\n",
    "print(football)"
   ]
  },
  {
   "cell_type": "code",
   "execution_count": 21,
   "metadata": {},
   "outputs": [
    {
     "name": "stdout",
     "output_type": "stream",
     "text": [
      "Player Name           Halaand\n",
      "Expected Goals(XG)         20\n",
      "Chances Missed             23\n",
      "Goals per 90              0.8\n",
      "Name: 0, dtype: object\n",
      "  Player Name  Expected Goals(XG)  Chances Missed  Goals per 90\n",
      "0     Halaand                  20              23           0.8\n",
      "1    Rashford                  52              45           0.2\n",
      "2       Salah                  32              67           0.9\n",
      "3      Sancho                  31              89           0.9\n"
     ]
    },
    {
     "name": "stderr",
     "output_type": "stream",
     "text": [
      "\n",
      "KeyboardInterrupt\n",
      "\n"
     ]
    }
   ],
   "source": [
    "#Locate row -- loc(return one or more rows)\n",
    "#locate first item\n",
    "print(football.loc[0])\n",
    "\n",
    "#Locate from first to last\n",
    "print(football.loc[0:])\n"
   ]
  },
  {
   "cell_type": "code",
   "execution_count": 23,
   "metadata": {},
   "outputs": [
    {
     "name": "stdout",
     "output_type": "stream",
     "text": [
      "  Player Name  Expected Goals(XG)  Chances Missed  Goals per 90\n",
      "0     Halaand                  20              23           0.8\n",
      "1    Rashford                  52              45           0.2\n"
     ]
    }
   ],
   "source": [
    "#printing an item between 0 and 1\n",
    "print(football.loc[[0,1]])\n"
   ]
  },
  {
   "cell_type": "code",
   "execution_count": 28,
   "metadata": {},
   "outputs": [
    {
     "name": "stdout",
     "output_type": "stream",
     "text": [
      "          Year  Bond_yield  CBK_Interest_rates  Inflation_Rate  \\\n",
      "0   01/12/2007   11.506875            8.972222        4.765000   \n",
      "1   01/12/2008   10.926750            8.900000       10.286667   \n",
      "2   01/12/2009   12.853083            7.875000       14.111667   \n",
      "3   01/12/2010    8.686333            6.357143        5.614167   \n",
      "4   01/12/2011   13.805917            9.593750        7.991667   \n",
      "5   01/12/2012   13.514182           16.500000       14.277500   \n",
      "6   01/12/2013   13.022667            8.833333        5.562500   \n",
      "7   01/12/2014   12.495167            8.500000        6.810833   \n",
      "8   01/12/2015   13.757833           10.187500        6.537500   \n",
      "9   01/12/2016   14.701083           10.666667        6.575833   \n",
      "10  01/12/2017   13.590083           10.000000        7.670833   \n",
      "11  01/12/2018   13.052333            9.333333        5.587500   \n",
      "12  01/12/2019   12.565417            8.928571        5.054167   \n",
      "13  01/12/2020   12.652500            7.166667        5.791667   \n",
      "14  01/12/2021   12.959833            7.000000        5.471667   \n",
      "15  01/12/2022   13.862417            7.666667        6.624167   \n",
      "16  01/04/2023   14.225500            9.125000        8.387500   \n",
      "\n",
      "    Economic_Growth_Rate  USD_Exchange_Rate  \n",
      "0                    6.9          67.466765  \n",
      "1                    1.5          69.003071  \n",
      "2                    2.7          77.339537  \n",
      "3                    8.1          79.261211  \n",
      "4                    5.1          88.866501  \n",
      "5                    4.6          84.522899  \n",
      "6                    3.8          86.125919  \n",
      "7                    5.0          87.923579  \n",
      "8                    5.0          98.517604  \n",
      "9                    4.2         101.497717  \n",
      "10                   3.8         103.411962  \n",
      "11                   5.6         101.298608  \n",
      "12                   5.1         102.012711  \n",
      "13                  -0.3         106.467626  \n",
      "14                   7.6         109.650950  \n",
      "15                   4.8         117.844315  \n",
      "16                   0.0         129.585869  \n"
     ]
    }
   ],
   "source": [
    "#loading files in data Frames\n",
    "#csv files -- pd.read.csv('file path')\n",
    "\n",
    "bond_data = pd.read_csv('C:/Users/MARTIN KILOMBE/Google Drive/NEW PROPOSAL DOCUMENT/MSC Defence/MSC FINAL DATA SET.csv')\n",
    "print(bond_data)\n",
    "\n"
   ]
  },
  {
   "cell_type": "code",
   "execution_count": 29,
   "metadata": {},
   "outputs": [
    {
     "name": "stdout",
     "output_type": "stream",
     "text": [
      "          Year  Bond_yield  CBK_Interest_rates  Inflation_Rate  Economic_Growth_Rate  USD_Exchange_Rate\n",
      "0   01/12/2007   11.506875            8.972222        4.765000                   6.9          67.466765\n",
      "1   01/12/2008   10.926750            8.900000       10.286667                   1.5          69.003071\n",
      "2   01/12/2009   12.853083            7.875000       14.111667                   2.7          77.339537\n",
      "3   01/12/2010    8.686333            6.357143        5.614167                   8.1          79.261211\n",
      "4   01/12/2011   13.805917            9.593750        7.991667                   5.1          88.866501\n",
      "5   01/12/2012   13.514182           16.500000       14.277500                   4.6          84.522899\n",
      "6   01/12/2013   13.022667            8.833333        5.562500                   3.8          86.125919\n",
      "7   01/12/2014   12.495167            8.500000        6.810833                   5.0          87.923579\n",
      "8   01/12/2015   13.757833           10.187500        6.537500                   5.0          98.517604\n",
      "9   01/12/2016   14.701083           10.666667        6.575833                   4.2         101.497717\n",
      "10  01/12/2017   13.590083           10.000000        7.670833                   3.8         103.411962\n",
      "11  01/12/2018   13.052333            9.333333        5.587500                   5.6         101.298608\n",
      "12  01/12/2019   12.565417            8.928571        5.054167                   5.1         102.012711\n",
      "13  01/12/2020   12.652500            7.166667        5.791667                  -0.3         106.467626\n",
      "14  01/12/2021   12.959833            7.000000        5.471667                   7.6         109.650950\n",
      "15  01/12/2022   13.862417            7.666667        6.624167                   4.8         117.844315\n",
      "16  01/04/2023   14.225500            9.125000        8.387500                   0.0         129.585869\n"
     ]
    }
   ],
   "source": [
    "#Tip: use to_string() to print the entire DataFrame.\n",
    "print(bond_data.to_string())\n"
   ]
  },
  {
   "cell_type": "code",
   "execution_count": null,
   "metadata": {},
   "outputs": [],
   "source": [
    "#change the number of rows displayed on the system\n",
    "pd.options.display.max_rows = 70\n"
   ]
  },
  {
   "cell_type": "code",
   "execution_count": 38,
   "metadata": {},
   "outputs": [
    {
     "name": "stdout",
     "output_type": "stream",
     "text": [
      "         Year  Bond_yield  CBK_Interest_rates  Inflation_Rate  \\\n",
      "0  01/12/2007   11.506875            8.972222        4.765000   \n",
      "1  01/12/2008   10.926750            8.900000       10.286667   \n",
      "2  01/12/2009   12.853083            7.875000       14.111667   \n",
      "3  01/12/2010    8.686333            6.357143        5.614167   \n",
      "4  01/12/2011   13.805917            9.593750        7.991667   \n",
      "5  01/12/2012   13.514182           16.500000       14.277500   \n",
      "6  01/12/2013   13.022667            8.833333        5.562500   \n",
      "7  01/12/2014   12.495167            8.500000        6.810833   \n",
      "8  01/12/2015   13.757833           10.187500        6.537500   \n",
      "9  01/12/2016   14.701083           10.666667        6.575833   \n",
      "\n",
      "   Economic_Growth_Rate  USD_Exchange_Rate  \n",
      "0                   6.9          67.466765  \n",
      "1                   1.5          69.003071  \n",
      "2                   2.7          77.339537  \n",
      "3                   8.1          79.261211  \n",
      "4                   5.1          88.866501  \n",
      "5                   4.6          84.522899  \n",
      "6                   3.8          86.125919  \n",
      "7                   5.0          87.923579  \n",
      "8                   5.0          98.517604  \n",
      "9                   4.2         101.497717  \n"
     ]
    }
   ],
   "source": [
    "#Analyzing Data\n",
    "#head(shows the 10 top rows)\n",
    "print(bond_data.head(10))"
   ]
  },
  {
   "cell_type": "code",
   "execution_count": 41,
   "metadata": {},
   "outputs": [
    {
     "name": "stdout",
     "output_type": "stream",
     "text": [
      "          Year  Bond_yield  CBK_Interest_rates  Inflation_Rate  \\\n",
      "12  01/12/2019   12.565417            8.928571        5.054167   \n",
      "13  01/12/2020   12.652500            7.166667        5.791667   \n",
      "14  01/12/2021   12.959833            7.000000        5.471667   \n",
      "15  01/12/2022   13.862417            7.666667        6.624167   \n",
      "16  01/04/2023   14.225500            9.125000        8.387500   \n",
      "\n",
      "    Economic_Growth_Rate  USD_Exchange_Rate  \n",
      "12                   5.1         102.012711  \n",
      "13                  -0.3         106.467626  \n",
      "14                   7.6         109.650950  \n",
      "15                   4.8         117.844315  \n",
      "16                   0.0         129.585869  \n"
     ]
    }
   ],
   "source": [
    "#Tail() -- Print the last rows of data, \n",
    "print(bond_data.tail())\n"
   ]
  },
  {
   "cell_type": "code",
   "execution_count": 42,
   "metadata": {},
   "outputs": [
    {
     "name": "stdout",
     "output_type": "stream",
     "text": [
      "<class 'pandas.core.frame.DataFrame'>\n",
      "RangeIndex: 17 entries, 0 to 16\n",
      "Data columns (total 6 columns):\n",
      " #   Column                Non-Null Count  Dtype  \n",
      "---  ------                --------------  -----  \n",
      " 0   Year                  17 non-null     object \n",
      " 1   Bond_yield            17 non-null     float64\n",
      " 2   CBK_Interest_rates    17 non-null     float64\n",
      " 3   Inflation_Rate        17 non-null     float64\n",
      " 4   Economic_Growth_Rate  17 non-null     float64\n",
      " 5   USD_Exchange_Rate     17 non-null     float64\n",
      "dtypes: float64(5), object(1)\n",
      "memory usage: 944.0+ bytes\n",
      "None\n"
     ]
    }
   ],
   "source": [
    "#info()-- gives info about the data\n",
    "print(bond_data.info())"
   ]
  },
  {
   "attachments": {},
   "cell_type": "markdown",
   "metadata": {},
   "source": [
    "#3.Cleaning Data -- Empty cells, Data in wrong format, Wrong data,Duplicates.\n"
   ]
  },
  {
   "cell_type": "code",
   "execution_count": 43,
   "metadata": {},
   "outputs": [
    {
     "name": "stdout",
     "output_type": "stream",
     "text": [
      "          Year  Bond_yield  CBK_Interest_rates  Inflation_Rate  Economic_Growth_Rate  USD_Exchange_Rate\n",
      "0   01/12/2007   11.506875            8.972222        4.765000                   6.9          67.466765\n",
      "1   01/12/2008   10.926750            8.900000       10.286667                   1.5          69.003071\n",
      "2   01/12/2009   12.853083            7.875000       14.111667                   2.7          77.339537\n",
      "3   01/12/2010    8.686333            6.357143        5.614167                   8.1          79.261211\n",
      "4   01/12/2011   13.805917            9.593750        7.991667                   5.1          88.866501\n",
      "5   01/12/2012   13.514182           16.500000       14.277500                   4.6          84.522899\n",
      "6   01/12/2013   13.022667            8.833333        5.562500                   3.8          86.125919\n",
      "7   01/12/2014   12.495167            8.500000        6.810833                   5.0          87.923579\n",
      "8   01/12/2015   13.757833           10.187500        6.537500                   5.0          98.517604\n",
      "9   01/12/2016   14.701083           10.666667        6.575833                   4.2         101.497717\n",
      "10  01/12/2017   13.590083           10.000000        7.670833                   3.8         103.411962\n",
      "11  01/12/2018   13.052333            9.333333        5.587500                   5.6         101.298608\n",
      "12  01/12/2019   12.565417            8.928571        5.054167                   5.1         102.012711\n",
      "13  01/12/2020   12.652500            7.166667        5.791667                  -0.3         106.467626\n",
      "14  01/12/2021   12.959833            7.000000        5.471667                   7.6         109.650950\n",
      "15  01/12/2022   13.862417            7.666667        6.624167                   4.8         117.844315\n",
      "16  01/04/2023   14.225500            9.125000        8.387500                   0.0         129.585869\n"
     ]
    }
   ],
   "source": [
    "#a)Empty cells -- .dropna()\n",
    "drop_empty_rows = bond_data.dropna()\n",
    "print(drop_empty_rows.to_string())\n"
   ]
  },
  {
   "cell_type": "code",
   "execution_count": 44,
   "metadata": {},
   "outputs": [
    {
     "name": "stdout",
     "output_type": "stream",
     "text": [
      "None\n"
     ]
    }
   ],
   "source": [
    "#b) Null values -- .dropna(inplace = True)\n",
    "drop_nulls = bond_data.dropna(inplace=True)\n",
    "print(drop_nulls)"
   ]
  },
  {
   "cell_type": "code",
   "execution_count": 46,
   "metadata": {},
   "outputs": [
    {
     "name": "stdout",
     "output_type": "stream",
     "text": [
      "None\n"
     ]
    }
   ],
   "source": [
    "#c) Filling empty values  -- mean, median, number .fillna()\n",
    "fill_130 = bond_data.fillna(130, inplace=True)\n",
    "print(fill_130)\n",
    "\n",
    "#Replacing a specific column with 130 where values are NULL\n",
    "bond_data[Bond_yield].fillna(130,inplace=True)"
   ]
  },
  {
   "cell_type": "code",
   "execution_count": 47,
   "metadata": {},
   "outputs": [
    {
     "name": "stdout",
     "output_type": "stream",
     "text": [
      "0     False\n",
      "1     False\n",
      "2     False\n",
      "3     False\n",
      "4     False\n",
      "5     False\n",
      "6     False\n",
      "7     False\n",
      "8     False\n",
      "9     False\n",
      "10    False\n",
      "11    False\n",
      "12    False\n",
      "13    False\n",
      "14    False\n",
      "15    False\n",
      "16    False\n",
      "dtype: bool\n"
     ]
    }
   ],
   "source": [
    "#d) Duplicates --Cheking for duplucates in every row\n",
    "duplicate_check = bond_data.duplicated()\n",
    "print(duplicate_check)\n"
   ]
  },
  {
   "cell_type": "code",
   "execution_count": 52,
   "metadata": {},
   "outputs": [
    {
     "name": "stdout",
     "output_type": "stream",
     "text": [
      "None\n"
     ]
    }
   ],
   "source": [
    "#Removing the duplicates from original dataframe --.drop_duplicates()\n",
    "remove_dupluicate = bond_data.drop_duplicates(inplace=True)\n",
    "print(remove_dupluicate)"
   ]
  },
  {
   "cell_type": "code",
   "execution_count": 53,
   "metadata": {},
   "outputs": [
    {
     "name": "stderr",
     "output_type": "stream",
     "text": [
      "C:\\Users\\MARTIN KILOMBE\\AppData\\Local\\Temp\\ipykernel_44312\\574360617.py:2: FutureWarning: The default value of numeric_only in DataFrame.corr is deprecated. In a future version, it will default to False. Select only valid columns or specify the value of numeric_only to silence this warning.\n",
      "  correlation = bond_data.corr()\n"
     ]
    },
    {
     "name": "stdout",
     "output_type": "stream",
     "text": [
      "                      Bond_yield  CBK_Interest_rates  Inflation_Rate  \\\n",
      "Bond_yield              1.000000            0.414138        0.143003   \n",
      "CBK_Interest_rates      0.414138            1.000000        0.532909   \n",
      "Inflation_Rate          0.143003            0.532909        1.000000   \n",
      "Economic_Growth_Rate   -0.327195           -0.053849       -0.352873   \n",
      "USD_Exchange_Rate       0.604204           -0.105272       -0.272721   \n",
      "\n",
      "                      Economic_Growth_Rate  USD_Exchange_Rate  \n",
      "Bond_yield                       -0.327195           0.604204  \n",
      "CBK_Interest_rates               -0.053849          -0.105272  \n",
      "Inflation_Rate                   -0.352873          -0.272721  \n",
      "Economic_Growth_Rate              1.000000          -0.268974  \n",
      "USD_Exchange_Rate                -0.268974           1.000000  \n"
     ]
    }
   ],
   "source": [
    "#correlations --between columns .corr() example: df.corr()\n",
    "correlation = bond_data.corr()\n",
    "print(correlation)"
   ]
  },
  {
   "cell_type": "code",
   "execution_count": 59,
   "metadata": {},
   "outputs": [],
   "source": [
    "#Plotting -- assited by matplot lib\n",
    "import matplotlib.pyplot as plt"
   ]
  },
  {
   "cell_type": "code",
   "execution_count": 57,
   "metadata": {},
   "outputs": [
    {
     "data": {
      "image/png": "[encoded data removed]",
      "text/plain": [
       "<Figure size 640x480 with 1 Axes>"
      ]
     },
     "metadata": {},
     "output_type": "display_data"
    }
   ],
   "source": [
    "bond_data.plot()\n",
    "plt.show()"
   ]
  },
  {
   "cell_type": "code",
   "execution_count": 63,
   "metadata": {},
   "outputs": [
    {
     "data": {
      "text/plain": [
       "<Axes: ylabel='Frequency'>"
      ]
     },
     "execution_count": 63,
     "metadata": {},
     "output_type": "execute_result"
    },
    {
     "data": {
      "image/png": "[encoded data removed]",
      "text/plain": [
       "<Figure size 640x480 with 1 Axes>"
      ]
     },
     "metadata": {},
     "output_type": "display_data"
    }
   ],
   "source": [
    "#scatter plot -- .plot(kind='scatter',x='',y='')\n",
    "#Histogram -- .plot(kind = 'hist')\n",
    "bond_data[\"Inflation_Rate\"].plot(kind='hist')\n",
    "bond_data[\"CBK_Interest_rates\"].plot(kind='hist')\n"
   ]
  },
  {
   "cell_type": "code",
   "execution_count": 65,
   "metadata": {},
   "outputs": [
    {
     "data": {
      "text/plain": [
       "<Axes: >"
      ]
     },
     "execution_count": 65,
     "metadata": {},
     "output_type": "execute_result"
    },
    {
     "data": {
      "image/png": "[encoded data removed]",
      "text/plain": [
       "<Figure size 640x480 with 1 Axes>"
      ]
     },
     "metadata": {},
     "output_type": "display_data"
    }
   ],
   "source": [
    "#plotting a economic growth line\n",
    "bond_data[\"Economic_Growth_Rate\"].plot(kind='line')"
   ]
  }
 ],
 "metadata": {
  "kernelspec": {
   "display_name": "machinelearning",
   "language": "python",
   "name": "python3"
  },
  "language_info": {
   "codemirror_mode": {
    "name": "ipython",
    "version": 3
   },
   "file_extension": ".py",
   "mimetype": "text/x-python",
   "name": "python",
   "nbconvert_exporter": "python",
   "pygments_lexer": "ipython3",
   "version": "3.9.16"
  },
  "orig_nbformat": 4
 },
 "nbformat": 4,
 "nbformat_minor": 2
}
